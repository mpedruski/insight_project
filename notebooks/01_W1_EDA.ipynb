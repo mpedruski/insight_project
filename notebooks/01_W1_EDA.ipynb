{
 "cells": [
  {
   "cell_type": "code",
   "execution_count": 2,
   "metadata": {},
   "outputs": [
    {
     "data": {
      "image/png": "[encoded data removed]",
      "text/plain": [
       "<Figure size 360x360 with 1 Axes>"
      ]
     },
     "metadata": {
      "needs_background": "light"
     },
     "output_type": "display_data"
    }
   ],
   "source": [
    "### Load dependencies and dataset\n",
    "import pandas as pd\n",
    "import matplotlib.pyplot as plt\n",
    "import seaborn as sns\n",
    "from pathlib import Path\n",
    "\n",
    "data_folder = Path(\"../data/raw\")\n",
    "file_to_open = data_folder / 'biblioMTL_cat_2020_01_09.csv'\n",
    "df = pd.read_csv(file_to_open,usecols=[3,4,5], nrows = 1000)\n",
    "\n",
    "### Convert statut-document type to category to save on memory\n",
    "df['Statut-document']=df['Statut-document'].astype('category')\n",
    "\n",
    "### Categories of statut that constitute a used document\n",
    "Used = ['Consultation sur place','En traitment','En transit','Facturé','Prêt retrait','Prêté','Recherché']\n",
    "\n",
    "### Create numeric vector from 'Statut-document'\n",
    "numeric_statut = []\n",
    "for Statut in df['Statut-document']:\n",
    "    if Statut == \"Disponible\":\n",
    "        numeric_statut.append(0)\n",
    "    elif Statut in Used:\n",
    "        numeric_statut.append(1)\n",
    "    else:\n",
    "        numeric_statut.append(2)\n",
    "\n",
    "### Create lists: x=lifetime borrows, y=numeric_statut for records with 0 or 1\n",
    "x = []\n",
    "y = []\n",
    "for i in range(len(numeric_statut)):\n",
    "    if numeric_statut[i] == 0 or numeric_statut[i] == 1:\n",
    "        y.append(numeric_statut[i])\n",
    "        x.append(df['Nombre-prets-vie'][i])\n",
    "\n",
    "### Make new dataframe from x and y, and plot\n",
    "reduced_data = pd.DataFrame({'Lifetime loan count':x,'Current loan status':y})\n",
    "ax = sns.catplot(y='Lifetime loan count',x='Current loan status',kind = 'box',data=reduced_data)\n",
    "ax.savefig('./figures/loan_status_boxplots.png')\n"
   ]
  },
  {
   "cell_type": "code",
   "execution_count": null,
   "metadata": {},
   "outputs": [],
   "source": []
  }
 ],
 "metadata": {
  "kernelspec": {
   "display_name": "Python 3",
   "language": "python",
   "name": "python3"
  },
  "language_info": {
   "codemirror_mode": {
    "name": "ipython",
    "version": 3
   },
   "file_extension": ".py",
   "mimetype": "text/x-python",
   "name": "python",
   "nbconvert_exporter": "python",
   "pygments_lexer": "ipython3",
   "version": "3.6.9"
  }
 },
 "nbformat": 4,
 "nbformat_minor": 4
}
